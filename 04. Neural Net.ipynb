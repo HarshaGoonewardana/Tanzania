{
 "cells": [
  {
   "cell_type": "code",
   "execution_count": 1,
   "metadata": {},
   "outputs": [
    {
     "name": "stderr",
     "output_type": "stream",
     "text": [
      "Using TensorFlow backend.\n"
     ]
    },
    {
     "name": "stdout",
     "output_type": "stream",
     "text": [
      "Couldn't import dot_parser, loading of dot files will not be possible.\n"
     ]
    }
   ],
   "source": [
    "import pandas as pd\n",
    "import numpy as np\n",
    "import matplotlib.pyplot as plt\n",
    "from IPython.display import display\n",
    "pd.options.display.max_columns = None\n",
    "import seaborn as sns\n",
    "\n",
    "import pickle\n",
    "import yellowbrick \n",
    "\n",
    "from sklearn.model_selection import train_test_split\n",
    "from sklearn.preprocessing import LabelEncoder\n",
    "\n",
    "from keras.callbacks import EarlyStopping\n",
    "\n",
    "from keras import regularizers\n",
    "from keras.layers import Dropout\n",
    "from keras.layers import Dense \n",
    "from keras import Sequential"
   ]
  },
  {
   "cell_type": "code",
   "execution_count": 2,
   "metadata": {},
   "outputs": [],
   "source": [
    "#import data\n",
    "df=pd.read_pickle('./data/dummied_122.pkl')"
   ]
  },
  {
   "cell_type": "code",
   "execution_count": 3,
   "metadata": {},
   "outputs": [],
   "source": [
    "#encode labels\n",
    "le=LabelEncoder()\n",
    "df.status_group = le.fit_transform(df.status_group)\n",
    "from sklearn.preprocessing import StandardScaler "
   ]
  },
  {
   "cell_type": "code",
   "execution_count": 8,
   "metadata": {},
   "outputs": [],
   "source": [
    "# train,test,split\n",
    "X =df.drop('status_group',axis=1)\n",
    "y=df.status_group"
   ]
  },
  {
   "cell_type": "code",
   "execution_count": 9,
   "metadata": {},
   "outputs": [
    {
     "name": "stdout",
     "output_type": "stream",
     "text": [
      "Shapes\n",
      "X_train: (44256, 148)\n",
      "X_test: (11065, 148)\n",
      "y_train: (44256,)\n",
      "y_test: (11065,)\n"
     ]
    }
   ],
   "source": [
    "X_train, X_test, y_train, y_test =train_test_split(X, y,test_size=0.2, random_state=42,stratify=y)\n",
    "print('Shapes')\n",
    "print('X_train:', X_train.shape)\n",
    "print('X_test:', X_test.shape)\n",
    "print('y_train:', y_train.shape)\n",
    "print('y_test:', y_test.shape) "
   ]
  },
  {
   "cell_type": "code",
   "execution_count": 13,
   "metadata": {},
   "outputs": [],
   "source": [
    "# Convert the y variable for neural net imput\n",
    "from keras.utils import np_utils\n",
    "y_test = np_utils.to_categorical(y_test)\n",
    "y_train = np_utils.to_categorical(y_train)"
   ]
  },
  {
   "cell_type": "code",
   "execution_count": 10,
   "metadata": {},
   "outputs": [
    {
     "data": {
      "text/plain": [
       "51728    0\n",
       "44817    0\n",
       "54670    0\n",
       "419      0\n",
       "34574    0\n",
       "57710    2\n",
       "2797     2\n",
       "14606    2\n",
       "36137    2\n",
       "40707    0\n",
       "55760    2\n",
       "43049    0\n",
       "8648     0\n",
       "28773    2\n",
       "36090    0\n",
       "5713     2\n",
       "32920    0\n",
       "25241    0\n",
       "28647    0\n",
       "52824    1\n",
       "5126     2\n",
       "56887    0\n",
       "9466     2\n",
       "7505     2\n",
       "56167    0\n",
       "6289     2\n",
       "47056    2\n",
       "3610     0\n",
       "52323    0\n",
       "44238    0\n",
       "        ..\n",
       "50577    2\n",
       "39564    1\n",
       "6597     2\n",
       "7079     0\n",
       "11006    0\n",
       "8800     0\n",
       "20618    2\n",
       "55161    0\n",
       "40040    0\n",
       "59126    2\n",
       "40625    2\n",
       "27894    0\n",
       "32663    0\n",
       "42570    2\n",
       "35661    1\n",
       "58037    0\n",
       "34338    0\n",
       "2929     2\n",
       "20900    0\n",
       "28626    1\n",
       "29797    0\n",
       "4714     0\n",
       "21129    2\n",
       "12282    2\n",
       "11414    0\n",
       "55999    2\n",
       "47008    0\n",
       "19947    2\n",
       "27208    0\n",
       "36469    2\n",
       "Name: status_group, Length: 11065, dtype: int64"
      ]
     },
     "execution_count": 10,
     "metadata": {},
     "output_type": "execute_result"
    }
   ],
   "source": [
    "y_test"
   ]
  },
  {
   "cell_type": "code",
   "execution_count": 11,
   "metadata": {},
   "outputs": [],
   "source": [
    "\n",
    "\n",
    "#scale and transform the predictive dataset in both test and train forms\n",
    "ss = StandardScaler()\n",
    "X_train_s= ss.fit_transform(X_train) # saved the mean and std from X_train\n",
    "X_test_s=ss.transform(X_test)"
   ]
  },
  {
   "cell_type": "code",
   "execution_count": 12,
   "metadata": {},
   "outputs": [
    {
     "data": {
      "text/plain": [
       "148"
      ]
     },
     "execution_count": 12,
     "metadata": {},
     "output_type": "execute_result"
    }
   ],
   "source": [
    "X_train_s.shape[1]"
   ]
  },
  {
   "cell_type": "code",
   "execution_count": 14,
   "metadata": {},
   "outputs": [
    {
     "name": "stdout",
     "output_type": "stream",
     "text": [
      "Train on 44256 samples, validate on 11065 samples\n",
      "Epoch 1/50\n",
      " - 6s - loss: 3.8705 - acc: 0.4983 - val_loss: 2.0260 - val_acc: 0.5427\n",
      "Epoch 2/50\n",
      " - 5s - loss: 1.7995 - acc: 0.5417 - val_loss: 1.5338 - val_acc: 0.5427\n",
      "Epoch 3/50\n",
      " - 6s - loss: 1.3480 - acc: 0.5424 - val_loss: 1.1789 - val_acc: 0.5427\n",
      "Epoch 4/50\n",
      " - 9s - loss: 1.0688 - acc: 0.5426 - val_loss: 0.9815 - val_acc: 0.5427\n",
      "Epoch 5/50\n",
      " - 6s - loss: 0.9363 - acc: 0.5426 - val_loss: 0.9055 - val_acc: 0.5427\n",
      "Epoch 6/50\n",
      " - 5s - loss: 0.8945 - acc: 0.5427 - val_loss: 0.8881 - val_acc: 0.5427\n",
      "Epoch 7/50\n",
      " - 5s - loss: 0.8867 - acc: 0.5427 - val_loss: 0.8858 - val_acc: 0.5427\n",
      "Epoch 8/50\n",
      " - 5s - loss: 0.8856 - acc: 0.5427 - val_loss: 0.8854 - val_acc: 0.5427\n",
      "Epoch 9/50\n",
      " - 6s - loss: 0.8854 - acc: 0.5427 - val_loss: 0.8854 - val_acc: 0.5427\n",
      "Epoch 10/50\n",
      " - 6s - loss: 0.8854 - acc: 0.5427 - val_loss: 0.8853 - val_acc: 0.5427\n",
      "Epoch 11/50\n",
      " - 7s - loss: 0.8854 - acc: 0.5427 - val_loss: 0.8853 - val_acc: 0.5427\n",
      "Epoch 12/50\n",
      " - 7s - loss: 0.8854 - acc: 0.5427 - val_loss: 0.8853 - val_acc: 0.5427\n",
      "Epoch 13/50\n",
      " - 5s - loss: 0.8854 - acc: 0.5427 - val_loss: 0.8854 - val_acc: 0.5427\n",
      "Epoch 14/50\n",
      " - 5s - loss: 0.8854 - acc: 0.5427 - val_loss: 0.8853 - val_acc: 0.5427\n",
      "Epoch 15/50\n",
      " - 5s - loss: 0.8854 - acc: 0.5427 - val_loss: 0.8853 - val_acc: 0.5427\n",
      "Epoch 16/50\n",
      " - 5s - loss: 0.8854 - acc: 0.5427 - val_loss: 0.8853 - val_acc: 0.5427\n",
      "Epoch 17/50\n",
      " - 5s - loss: 0.8854 - acc: 0.5427 - val_loss: 0.8853 - val_acc: 0.5427\n",
      "Epoch 18/50\n",
      " - 5s - loss: 0.8854 - acc: 0.5427 - val_loss: 0.8854 - val_acc: 0.5427\n",
      "Epoch 19/50\n",
      " - 5s - loss: 0.8854 - acc: 0.5427 - val_loss: 0.8853 - val_acc: 0.5427\n",
      "Epoch 20/50\n",
      " - 5s - loss: 0.8854 - acc: 0.5427 - val_loss: 0.8853 - val_acc: 0.5427\n",
      "Epoch 21/50\n",
      " - 5s - loss: 0.8854 - acc: 0.5427 - val_loss: 0.8853 - val_acc: 0.5427\n"
     ]
    }
   ],
   "source": [
    "callbacks = [EarlyStopping(monitor='val_loss', patience=6)]\n",
    "input_dim= X_train_s.shape[1]\n",
    "output_dim= 3\n",
    "\n",
    "model= Sequential()\n",
    "model.add(Dense(122,input_dim=input_dim, activation='relu',\n",
    "               kernel_regularizer=regularizers.l2(0.01)))\n",
    "#Dropout layer 1\n",
    "model.add(Dropout(0.5)) # Ben Shaver suggestion\n",
    "model.add(Dense(80, activation='relu',\n",
    "               kernel_regularizer=regularizers.l2(0.01)))\n",
    "#Dropout layer 2\n",
    "model.add(Dropout(0.5))\n",
    "model.add(Dense(50, activation='relu',\n",
    "               kernel_regularizer=regularizers.l2(0.01)))\n",
    "#Dropout layer 3\n",
    "model.add(Dropout(0.5))\n",
    "model.add(Dense(20, activation='relu',\n",
    "               kernel_regularizer=regularizers.l2(0.01)))\n",
    "#Dropout layer 4\n",
    "model.add(Dropout(0.5))\n",
    "model.add(Dense(20, activation='relu',\n",
    "               kernel_regularizer=regularizers.l2(0.01)))\n",
    "#Dropout layer 5\n",
    "model.add(Dropout(0.5))\n",
    "model.add(Dense(output_dim,activation='softmax'))\n",
    "\n",
    "#Compile \n",
    "model.compile(optimizer='adam', loss='categorical_crossentropy', metrics=['accuracy'])\n",
    "\n",
    "#fit\n",
    "history = model.fit(X_train, y_train, validation_data=(X_test, y_test), \n",
    "                    epochs=50, verbose=2,callbacks=callbacks,)"
   ]
  },
  {
   "cell_type": "code",
   "execution_count": 15,
   "metadata": {},
   "outputs": [
    {
     "data": {
      "image/png": "[encoded data removed]",
      "text/plain": [
       "<Figure size 576x396 with 1 Axes>"
      ]
     },
     "metadata": {},
     "output_type": "display_data"
    }
   ],
   "source": [
    "train_loss=history.history['loss']\n",
    "test_loss=history.history['val_loss']\n",
    "plt.plot(train_loss,label='Training loss')\n",
    "plt.plot(test_loss,label='Test loss')\n",
    "plt.title(\"5 layer Neural Network Loss Function\")\n",
    "plt.legend();"
   ]
  },
  {
   "cell_type": "code",
   "execution_count": null,
   "metadata": {},
   "outputs": [],
   "source": []
  }
 ],
 "metadata": {
  "kernelspec": {
   "display_name": "Python 3",
   "language": "python",
   "name": "python3"
  },
  "language_info": {
   "codemirror_mode": {
    "name": "ipython",
    "version": 3
   },
   "file_extension": ".py",
   "mimetype": "text/x-python",
   "name": "python",
   "nbconvert_exporter": "python",
   "pygments_lexer": "ipython3",
   "version": "3.6.5"
  }
 },
 "nbformat": 4,
 "nbformat_minor": 2
}
